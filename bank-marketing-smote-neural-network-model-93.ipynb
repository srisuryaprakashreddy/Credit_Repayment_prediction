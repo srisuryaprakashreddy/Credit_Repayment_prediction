{
 "cells": [
  {
   "cell_type": "code",
   "execution_count": 1,
   "id": "215cdf3b",
   "metadata": {
    "_cell_guid": "b1076dfc-b9ad-4769-8c92-a6c4dae69d19",
    "_uuid": "8f2839f25d086af736a60e9eeb907d3b93b6e0e5",
    "execution": {
     "iopub.execute_input": "2024-10-07T01:14:17.770087Z",
     "iopub.status.busy": "2024-10-07T01:14:17.769650Z",
     "iopub.status.idle": "2024-10-07T01:14:18.805403Z",
     "shell.execute_reply": "2024-10-07T01:14:18.804187Z"
    },
    "papermill": {
     "duration": 1.047878,
     "end_time": "2024-10-07T01:14:18.808239",
     "exception": false,
     "start_time": "2024-10-07T01:14:17.760361",
     "status": "completed"
    },
    "tags": []
   },
   "outputs": [],
   "source": [
    "import numpy as np\n",
    "import pandas as pd "
   ]
  },
  {
   "cell_type": "markdown",
   "id": "b257480b",
   "metadata": {
    "papermill": {
     "duration": 0.006656,
     "end_time": "2024-10-07T01:14:18.822122",
     "exception": false,
     "start_time": "2024-10-07T01:14:18.815466",
     "status": "completed"
    },
    "tags": []
   },
   "source": [
    "# IMPORT LIBRARY"
   ]
  },
  {
   "cell_type": "code",
   "execution_count": 5,
   "id": "9fbc9ad4",
   "metadata": {
    "execution": {
     "iopub.execute_input": "2024-10-07T01:14:18.837753Z",
     "iopub.status.busy": "2024-10-07T01:14:18.837163Z",
     "iopub.status.idle": "2024-10-07T01:14:34.366774Z",
     "shell.execute_reply": "2024-10-07T01:14:34.365606Z"
    },
    "papermill": {
     "duration": 15.540558,
     "end_time": "2024-10-07T01:14:34.369519",
     "exception": false,
     "start_time": "2024-10-07T01:14:18.828961",
     "status": "completed"
    },
    "tags": []
   },
   "outputs": [],
   "source": [
    "import tensorflow as tf\n",
    "import warnings\n",
    "warnings.filterwarnings('ignore')"
   ]
  },
  {
   "cell_type": "code",
   "execution_count": 17,
   "id": "c6d86cd7",
   "metadata": {
    "execution": {
     "iopub.execute_input": "2024-10-07T01:14:34.386639Z",
     "iopub.status.busy": "2024-10-07T01:14:34.385231Z",
     "iopub.status.idle": "2024-10-07T01:14:34.395350Z",
     "shell.execute_reply": "2024-10-07T01:14:34.394261Z"
    },
    "papermill": {
     "duration": 0.022089,
     "end_time": "2024-10-07T01:14:34.398732",
     "exception": false,
     "start_time": "2024-10-07T01:14:34.376643",
     "status": "completed"
    },
    "tags": []
   },
   "outputs": [
    {
     "name": "stdout",
     "output_type": "stream",
     "text": [
      "TensorFlow is using CPU\n"
     ]
    }
   ],
   "source": [
    "if tf.test.is_gpu_available():\n",
    "    print(\"TensorFlow is using GPU\")\n",
    "else:\n",
    "    print(\"TensorFlow is using CPU\")"
   ]
  },
  {
   "cell_type": "code",
   "execution_count": 20,
   "id": "59995904",
   "metadata": {
    "execution": {
     "iopub.execute_input": "2024-10-07T01:14:34.420319Z",
     "iopub.status.busy": "2024-10-07T01:14:34.419703Z",
     "iopub.status.idle": "2024-10-07T01:14:36.929572Z",
     "shell.execute_reply": "2024-10-07T01:14:36.928504Z"
    },
    "papermill": {
     "duration": 2.523023,
     "end_time": "2024-10-07T01:14:36.932275",
     "exception": false,
     "start_time": "2024-10-07T01:14:34.409252",
     "status": "completed"
    },
    "tags": []
   },
   "outputs": [],
   "source": [
    "import pandas as pd\n",
    "import matplotlib.pyplot as plt\n",
    "import seaborn as sns\n",
    "\n",
    "from sklearn.feature_selection import SelectKBest, f_classif\n",
    "from sklearn.preprocessing import LabelEncoder, StandardScaler\n",
    "from sklearn.metrics import confusion_matrix, classification_report\n",
    "from sklearn.model_selection import train_test_split\n",
    "from sklearn.preprocessing import StandardScaler\n",
    "from tensorflow.keras.models import Sequential\n",
    "from tensorflow.keras.layers import Dense\n",
    "from keras.optimizers import Adam\n",
    "from imblearn.over_sampling import SMOTE"
   ]
  },
  {
   "cell_type": "markdown",
   "id": "9672bded",
   "metadata": {
    "papermill": {
     "duration": 0.006877,
     "end_time": "2024-10-07T01:14:36.946420",
     "exception": false,
     "start_time": "2024-10-07T01:14:36.939543",
     "status": "completed"
    },
    "tags": []
   },
   "source": [
    "# READ DATASETS"
   ]
  },
  {
   "cell_type": "code",
   "execution_count": 28,
   "id": "8596cef9",
   "metadata": {
    "execution": {
     "iopub.execute_input": "2024-10-07T01:14:36.962276Z",
     "iopub.status.busy": "2024-10-07T01:14:36.961577Z",
     "iopub.status.idle": "2024-10-07T01:14:48.578619Z",
     "shell.execute_reply": "2024-10-07T01:14:48.577405Z"
    },
    "papermill": {
     "duration": 11.627841,
     "end_time": "2024-10-07T01:14:48.581261",
     "exception": false,
     "start_time": "2024-10-07T01:14:36.953420",
     "status": "completed"
    },
    "tags": []
   },
   "outputs": [],
   "source": [
    "df = pd.read_excel('bank-full.xlsx')"
   ]
  },
  {
   "cell_type": "code",
   "execution_count": 29,
   "id": "c533f458",
   "metadata": {
    "execution": {
     "iopub.execute_input": "2024-10-07T01:14:48.597660Z",
     "iopub.status.busy": "2024-10-07T01:14:48.596990Z",
     "iopub.status.idle": "2024-10-07T01:14:48.632427Z",
     "shell.execute_reply": "2024-10-07T01:14:48.631310Z"
    },
    "papermill": {
     "duration": 0.046452,
     "end_time": "2024-10-07T01:14:48.634946",
     "exception": false,
     "start_time": "2024-10-07T01:14:48.588494",
     "status": "completed"
    },
    "tags": []
   },
   "outputs": [
    {
     "data": {
      "text/html": [
       "<div>\n",
       "<style scoped>\n",
       "    .dataframe tbody tr th:only-of-type {\n",
       "        vertical-align: middle;\n",
       "    }\n",
       "\n",
       "    .dataframe tbody tr th {\n",
       "        vertical-align: top;\n",
       "    }\n",
       "\n",
       "    .dataframe thead th {\n",
       "        text-align: right;\n",
       "    }\n",
       "</style>\n",
       "<table border=\"1\" class=\"dataframe\">\n",
       "  <thead>\n",
       "    <tr style=\"text-align: right;\">\n",
       "      <th></th>\n",
       "      <th>age</th>\n",
       "      <th>job</th>\n",
       "      <th>marital</th>\n",
       "      <th>education</th>\n",
       "      <th>default</th>\n",
       "      <th>balance</th>\n",
       "      <th>housing</th>\n",
       "      <th>loan</th>\n",
       "      <th>contact</th>\n",
       "      <th>day</th>\n",
       "      <th>month</th>\n",
       "      <th>duration</th>\n",
       "      <th>campaign</th>\n",
       "      <th>pdays</th>\n",
       "      <th>previous</th>\n",
       "      <th>poutcome</th>\n",
       "      <th>y</th>\n",
       "    </tr>\n",
       "  </thead>\n",
       "  <tbody>\n",
       "    <tr>\n",
       "      <th>45206</th>\n",
       "      <td>51</td>\n",
       "      <td>technician</td>\n",
       "      <td>married</td>\n",
       "      <td>tertiary</td>\n",
       "      <td>no</td>\n",
       "      <td>825</td>\n",
       "      <td>no</td>\n",
       "      <td>no</td>\n",
       "      <td>cellular</td>\n",
       "      <td>17</td>\n",
       "      <td>nov</td>\n",
       "      <td>977</td>\n",
       "      <td>3</td>\n",
       "      <td>-1</td>\n",
       "      <td>0</td>\n",
       "      <td>unknown</td>\n",
       "      <td>yes</td>\n",
       "    </tr>\n",
       "    <tr>\n",
       "      <th>45207</th>\n",
       "      <td>71</td>\n",
       "      <td>retired</td>\n",
       "      <td>divorced</td>\n",
       "      <td>primary</td>\n",
       "      <td>no</td>\n",
       "      <td>1729</td>\n",
       "      <td>no</td>\n",
       "      <td>no</td>\n",
       "      <td>cellular</td>\n",
       "      <td>17</td>\n",
       "      <td>nov</td>\n",
       "      <td>456</td>\n",
       "      <td>2</td>\n",
       "      <td>-1</td>\n",
       "      <td>0</td>\n",
       "      <td>unknown</td>\n",
       "      <td>yes</td>\n",
       "    </tr>\n",
       "    <tr>\n",
       "      <th>45208</th>\n",
       "      <td>72</td>\n",
       "      <td>retired</td>\n",
       "      <td>married</td>\n",
       "      <td>secondary</td>\n",
       "      <td>no</td>\n",
       "      <td>5715</td>\n",
       "      <td>no</td>\n",
       "      <td>no</td>\n",
       "      <td>cellular</td>\n",
       "      <td>17</td>\n",
       "      <td>nov</td>\n",
       "      <td>1127</td>\n",
       "      <td>5</td>\n",
       "      <td>184</td>\n",
       "      <td>3</td>\n",
       "      <td>success</td>\n",
       "      <td>yes</td>\n",
       "    </tr>\n",
       "    <tr>\n",
       "      <th>45209</th>\n",
       "      <td>57</td>\n",
       "      <td>blue-collar</td>\n",
       "      <td>married</td>\n",
       "      <td>secondary</td>\n",
       "      <td>no</td>\n",
       "      <td>668</td>\n",
       "      <td>no</td>\n",
       "      <td>no</td>\n",
       "      <td>telephone</td>\n",
       "      <td>17</td>\n",
       "      <td>nov</td>\n",
       "      <td>508</td>\n",
       "      <td>4</td>\n",
       "      <td>-1</td>\n",
       "      <td>0</td>\n",
       "      <td>unknown</td>\n",
       "      <td>no</td>\n",
       "    </tr>\n",
       "    <tr>\n",
       "      <th>45210</th>\n",
       "      <td>37</td>\n",
       "      <td>entrepreneur</td>\n",
       "      <td>married</td>\n",
       "      <td>secondary</td>\n",
       "      <td>no</td>\n",
       "      <td>2971</td>\n",
       "      <td>no</td>\n",
       "      <td>no</td>\n",
       "      <td>cellular</td>\n",
       "      <td>17</td>\n",
       "      <td>nov</td>\n",
       "      <td>361</td>\n",
       "      <td>2</td>\n",
       "      <td>188</td>\n",
       "      <td>11</td>\n",
       "      <td>other</td>\n",
       "      <td>no</td>\n",
       "    </tr>\n",
       "  </tbody>\n",
       "</table>\n",
       "</div>"
      ],
      "text/plain": [
       "       age           job   marital  education default  balance housing loan  \\\n",
       "45206   51    technician   married   tertiary      no      825      no   no   \n",
       "45207   71       retired  divorced    primary      no     1729      no   no   \n",
       "45208   72       retired   married  secondary      no     5715      no   no   \n",
       "45209   57   blue-collar   married  secondary      no      668      no   no   \n",
       "45210   37  entrepreneur   married  secondary      no     2971      no   no   \n",
       "\n",
       "         contact  day month  duration  campaign  pdays  previous poutcome    y  \n",
       "45206   cellular   17   nov       977         3     -1         0  unknown  yes  \n",
       "45207   cellular   17   nov       456         2     -1         0  unknown  yes  \n",
       "45208   cellular   17   nov      1127         5    184         3  success  yes  \n",
       "45209  telephone   17   nov       508         4     -1         0  unknown   no  \n",
       "45210   cellular   17   nov       361         2    188        11    other   no  "
      ]
     },
     "execution_count": 29,
     "metadata": {},
     "output_type": "execute_result"
    }
   ],
   "source": [
    "df.tail(5)"
   ]
  },
  {
   "cell_type": "markdown",
   "id": "3ba33363",
   "metadata": {
    "papermill": {
     "duration": 0.007031,
     "end_time": "2024-10-07T01:14:48.649614",
     "exception": false,
     "start_time": "2024-10-07T01:14:48.642583",
     "status": "completed"
    },
    "tags": []
   },
   "source": [
    "# Cek Missing Value"
   ]
  },
  {
   "cell_type": "code",
   "execution_count": 32,
   "id": "a79d2132",
   "metadata": {
    "execution": {
     "iopub.execute_input": "2024-10-07T01:14:48.666436Z",
     "iopub.status.busy": "2024-10-07T01:14:48.665480Z",
     "iopub.status.idle": "2024-10-07T01:14:48.714716Z",
     "shell.execute_reply": "2024-10-07T01:14:48.713270Z"
    },
    "papermill": {
     "duration": 0.060473,
     "end_time": "2024-10-07T01:14:48.717263",
     "exception": false,
     "start_time": "2024-10-07T01:14:48.656790",
     "status": "completed"
    },
    "tags": []
   },
   "outputs": [
    {
     "name": "stdout",
     "output_type": "stream",
     "text": [
      "<class 'pandas.core.frame.DataFrame'>\n",
      "RangeIndex: 45211 entries, 0 to 45210\n",
      "Data columns (total 17 columns):\n",
      " #   Column     Non-Null Count  Dtype \n",
      "---  ------     --------------  ----- \n",
      " 0   age        45211 non-null  int64 \n",
      " 1   job        45211 non-null  object\n",
      " 2   marital    45211 non-null  object\n",
      " 3   education  45211 non-null  object\n",
      " 4   default    45211 non-null  object\n",
      " 5   balance    45211 non-null  int64 \n",
      " 6   housing    45211 non-null  object\n",
      " 7   loan       45211 non-null  object\n",
      " 8   contact    45211 non-null  object\n",
      " 9   day        45211 non-null  int64 \n",
      " 10  month      45211 non-null  object\n",
      " 11  duration   45211 non-null  int64 \n",
      " 12  campaign   45211 non-null  int64 \n",
      " 13  pdays      45211 non-null  int64 \n",
      " 14  previous   45211 non-null  int64 \n",
      " 15  poutcome   45211 non-null  object\n",
      " 16  y          45211 non-null  object\n",
      "dtypes: int64(7), object(10)\n",
      "memory usage: 5.9+ MB\n"
     ]
    }
   ],
   "source": [
    "df.info()"
   ]
  },
  {
   "cell_type": "code",
   "execution_count": 33,
   "id": "d4fb6971",
   "metadata": {
    "execution": {
     "iopub.execute_input": "2024-10-07T01:14:48.734124Z",
     "iopub.status.busy": "2024-10-07T01:14:48.733653Z",
     "iopub.status.idle": "2024-10-07T01:14:48.805617Z",
     "shell.execute_reply": "2024-10-07T01:14:48.804167Z"
    },
    "papermill": {
     "duration": 0.083297,
     "end_time": "2024-10-07T01:14:48.808100",
     "exception": false,
     "start_time": "2024-10-07T01:14:48.724803",
     "status": "completed"
    },
    "tags": []
   },
   "outputs": [
    {
     "name": "stdout",
     "output_type": "stream",
     "text": [
      "age          0\n",
      "job          0\n",
      "marital      0\n",
      "education    0\n",
      "default      0\n",
      "balance      0\n",
      "housing      0\n",
      "loan         0\n",
      "contact      0\n",
      "day          0\n",
      "month        0\n",
      "duration     0\n",
      "campaign     0\n",
      "pdays        0\n",
      "previous     0\n",
      "poutcome     0\n",
      "y            0\n",
      "dtype: int64\n",
      "\n",
      "Empty DataFrame\n",
      "Columns: [age, job, marital, education, default, balance, housing, loan, contact, day, month, duration, campaign, pdays, previous, poutcome, y]\n",
      "Index: []\n"
     ]
    }
   ],
   "source": [
    "print(df.isnull().sum())\n",
    "print('')\n",
    "\n",
    "print(df[df.duplicated()])"
   ]
  },
  {
   "cell_type": "markdown",
   "id": "92b2533e",
   "metadata": {
    "papermill": {
     "duration": 0.007268,
     "end_time": "2024-10-07T01:14:48.822954",
     "exception": false,
     "start_time": "2024-10-07T01:14:48.815686",
     "status": "completed"
    },
    "tags": []
   },
   "source": [
    "# Preprocessing Data"
   ]
  },
  {
   "cell_type": "markdown",
   "id": "c709ecb7",
   "metadata": {
    "papermill": {
     "duration": 0.007822,
     "end_time": "2024-10-07T01:14:48.838106",
     "exception": false,
     "start_time": "2024-10-07T01:14:48.830284",
     "status": "completed"
    },
    "tags": []
   },
   "source": [
    "> **One-Hot Encode for the features selected**"
   ]
  },
  {
   "cell_type": "code",
   "execution_count": 34,
   "id": "f9f247d8",
   "metadata": {
    "execution": {
     "iopub.execute_input": "2024-10-07T01:14:48.855560Z",
     "iopub.status.busy": "2024-10-07T01:14:48.855117Z",
     "iopub.status.idle": "2024-10-07T01:14:48.948568Z",
     "shell.execute_reply": "2024-10-07T01:14:48.947491Z"
    },
    "papermill": {
     "duration": 0.10482,
     "end_time": "2024-10-07T01:14:48.951097",
     "exception": false,
     "start_time": "2024-10-07T01:14:48.846277",
     "status": "completed"
    },
    "tags": []
   },
   "outputs": [],
   "source": [
    "label_encoder = LabelEncoder()\n",
    "binary_columns = ['default', 'housing', 'loan', 'y']\n",
    "\n",
    "# Encoding kolom-kolom kategori\n",
    "for column in binary_columns:\n",
    "    df[column] = label_encoder.fit_transform(df[column])\n",
    "categorical_columns = ['job', 'marital', 'education', 'contact', 'month', 'poutcome']\n",
    "df_encoded = pd.get_dummies(df, columns=categorical_columns, drop_first=True)\n",
    "\n",
    "data = df_encoded.astype(int)"
   ]
  },
  {
   "cell_type": "code",
   "execution_count": 35,
   "id": "b37b699c",
   "metadata": {
    "execution": {
     "iopub.execute_input": "2024-10-07T01:14:48.967776Z",
     "iopub.status.busy": "2024-10-07T01:14:48.967345Z",
     "iopub.status.idle": "2024-10-07T01:14:48.986879Z",
     "shell.execute_reply": "2024-10-07T01:14:48.985697Z"
    },
    "papermill": {
     "duration": 0.030629,
     "end_time": "2024-10-07T01:14:48.989230",
     "exception": false,
     "start_time": "2024-10-07T01:14:48.958601",
     "status": "completed"
    },
    "tags": []
   },
   "outputs": [
    {
     "data": {
      "text/html": [
       "<div>\n",
       "<style scoped>\n",
       "    .dataframe tbody tr th:only-of-type {\n",
       "        vertical-align: middle;\n",
       "    }\n",
       "\n",
       "    .dataframe tbody tr th {\n",
       "        vertical-align: top;\n",
       "    }\n",
       "\n",
       "    .dataframe thead th {\n",
       "        text-align: right;\n",
       "    }\n",
       "</style>\n",
       "<table border=\"1\" class=\"dataframe\">\n",
       "  <thead>\n",
       "    <tr style=\"text-align: right;\">\n",
       "      <th></th>\n",
       "      <th>age</th>\n",
       "      <th>default</th>\n",
       "      <th>balance</th>\n",
       "      <th>housing</th>\n",
       "      <th>loan</th>\n",
       "      <th>day</th>\n",
       "      <th>duration</th>\n",
       "      <th>campaign</th>\n",
       "      <th>pdays</th>\n",
       "      <th>previous</th>\n",
       "      <th>...</th>\n",
       "      <th>month_jul</th>\n",
       "      <th>month_jun</th>\n",
       "      <th>month_mar</th>\n",
       "      <th>month_may</th>\n",
       "      <th>month_nov</th>\n",
       "      <th>month_oct</th>\n",
       "      <th>month_sep</th>\n",
       "      <th>poutcome_other</th>\n",
       "      <th>poutcome_success</th>\n",
       "      <th>poutcome_unknown</th>\n",
       "    </tr>\n",
       "  </thead>\n",
       "  <tbody>\n",
       "    <tr>\n",
       "      <th>0</th>\n",
       "      <td>58</td>\n",
       "      <td>0</td>\n",
       "      <td>2143</td>\n",
       "      <td>1</td>\n",
       "      <td>0</td>\n",
       "      <td>5</td>\n",
       "      <td>261</td>\n",
       "      <td>1</td>\n",
       "      <td>-1</td>\n",
       "      <td>0</td>\n",
       "      <td>...</td>\n",
       "      <td>0</td>\n",
       "      <td>0</td>\n",
       "      <td>0</td>\n",
       "      <td>1</td>\n",
       "      <td>0</td>\n",
       "      <td>0</td>\n",
       "      <td>0</td>\n",
       "      <td>0</td>\n",
       "      <td>0</td>\n",
       "      <td>1</td>\n",
       "    </tr>\n",
       "    <tr>\n",
       "      <th>1</th>\n",
       "      <td>44</td>\n",
       "      <td>0</td>\n",
       "      <td>29</td>\n",
       "      <td>1</td>\n",
       "      <td>0</td>\n",
       "      <td>5</td>\n",
       "      <td>151</td>\n",
       "      <td>1</td>\n",
       "      <td>-1</td>\n",
       "      <td>0</td>\n",
       "      <td>...</td>\n",
       "      <td>0</td>\n",
       "      <td>0</td>\n",
       "      <td>0</td>\n",
       "      <td>1</td>\n",
       "      <td>0</td>\n",
       "      <td>0</td>\n",
       "      <td>0</td>\n",
       "      <td>0</td>\n",
       "      <td>0</td>\n",
       "      <td>1</td>\n",
       "    </tr>\n",
       "    <tr>\n",
       "      <th>2</th>\n",
       "      <td>33</td>\n",
       "      <td>0</td>\n",
       "      <td>2</td>\n",
       "      <td>1</td>\n",
       "      <td>1</td>\n",
       "      <td>5</td>\n",
       "      <td>76</td>\n",
       "      <td>1</td>\n",
       "      <td>-1</td>\n",
       "      <td>0</td>\n",
       "      <td>...</td>\n",
       "      <td>0</td>\n",
       "      <td>0</td>\n",
       "      <td>0</td>\n",
       "      <td>1</td>\n",
       "      <td>0</td>\n",
       "      <td>0</td>\n",
       "      <td>0</td>\n",
       "      <td>0</td>\n",
       "      <td>0</td>\n",
       "      <td>1</td>\n",
       "    </tr>\n",
       "    <tr>\n",
       "      <th>3</th>\n",
       "      <td>47</td>\n",
       "      <td>0</td>\n",
       "      <td>1506</td>\n",
       "      <td>1</td>\n",
       "      <td>0</td>\n",
       "      <td>5</td>\n",
       "      <td>92</td>\n",
       "      <td>1</td>\n",
       "      <td>-1</td>\n",
       "      <td>0</td>\n",
       "      <td>...</td>\n",
       "      <td>0</td>\n",
       "      <td>0</td>\n",
       "      <td>0</td>\n",
       "      <td>1</td>\n",
       "      <td>0</td>\n",
       "      <td>0</td>\n",
       "      <td>0</td>\n",
       "      <td>0</td>\n",
       "      <td>0</td>\n",
       "      <td>1</td>\n",
       "    </tr>\n",
       "    <tr>\n",
       "      <th>4</th>\n",
       "      <td>33</td>\n",
       "      <td>0</td>\n",
       "      <td>1</td>\n",
       "      <td>0</td>\n",
       "      <td>0</td>\n",
       "      <td>5</td>\n",
       "      <td>198</td>\n",
       "      <td>1</td>\n",
       "      <td>-1</td>\n",
       "      <td>0</td>\n",
       "      <td>...</td>\n",
       "      <td>0</td>\n",
       "      <td>0</td>\n",
       "      <td>0</td>\n",
       "      <td>1</td>\n",
       "      <td>0</td>\n",
       "      <td>0</td>\n",
       "      <td>0</td>\n",
       "      <td>0</td>\n",
       "      <td>0</td>\n",
       "      <td>1</td>\n",
       "    </tr>\n",
       "  </tbody>\n",
       "</table>\n",
       "<p>5 rows × 43 columns</p>\n",
       "</div>"
      ],
      "text/plain": [
       "   age  default  balance  housing  loan  day  duration  campaign  pdays  \\\n",
       "0   58        0     2143        1     0    5       261         1     -1   \n",
       "1   44        0       29        1     0    5       151         1     -1   \n",
       "2   33        0        2        1     1    5        76         1     -1   \n",
       "3   47        0     1506        1     0    5        92         1     -1   \n",
       "4   33        0        1        0     0    5       198         1     -1   \n",
       "\n",
       "   previous  ...  month_jul  month_jun  month_mar  month_may  month_nov  \\\n",
       "0         0  ...          0          0          0          1          0   \n",
       "1         0  ...          0          0          0          1          0   \n",
       "2         0  ...          0          0          0          1          0   \n",
       "3         0  ...          0          0          0          1          0   \n",
       "4         0  ...          0          0          0          1          0   \n",
       "\n",
       "   month_oct  month_sep  poutcome_other  poutcome_success  poutcome_unknown  \n",
       "0          0          0               0                 0                 1  \n",
       "1          0          0               0                 0                 1  \n",
       "2          0          0               0                 0                 1  \n",
       "3          0          0               0                 0                 1  \n",
       "4          0          0               0                 0                 1  \n",
       "\n",
       "[5 rows x 43 columns]"
      ]
     },
     "execution_count": 35,
     "metadata": {},
     "output_type": "execute_result"
    }
   ],
   "source": [
    "data.head(5)"
   ]
  },
  {
   "cell_type": "code",
   "execution_count": 75,
   "id": "3bcee6f6",
   "metadata": {},
   "outputs": [
    {
     "name": "stdout",
     "output_type": "stream",
     "text": [
      "<class 'pandas.core.frame.DataFrame'>\n",
      "RangeIndex: 45211 entries, 0 to 45210\n",
      "Data columns (total 43 columns):\n",
      " #   Column               Non-Null Count  Dtype\n",
      "---  ------               --------------  -----\n",
      " 0   age                  45211 non-null  int64\n",
      " 1   default              45211 non-null  int64\n",
      " 2   balance              45211 non-null  int64\n",
      " 3   housing              45211 non-null  int64\n",
      " 4   loan                 45211 non-null  int64\n",
      " 5   day                  45211 non-null  int64\n",
      " 6   duration             45211 non-null  int64\n",
      " 7   campaign             45211 non-null  int64\n",
      " 8   pdays                45211 non-null  int64\n",
      " 9   previous             45211 non-null  int64\n",
      " 10  y                    45211 non-null  int64\n",
      " 11  job_blue-collar      45211 non-null  int64\n",
      " 12  job_entrepreneur     45211 non-null  int64\n",
      " 13  job_housemaid        45211 non-null  int64\n",
      " 14  job_management       45211 non-null  int64\n",
      " 15  job_retired          45211 non-null  int64\n",
      " 16  job_self-employed    45211 non-null  int64\n",
      " 17  job_services         45211 non-null  int64\n",
      " 18  job_student          45211 non-null  int64\n",
      " 19  job_technician       45211 non-null  int64\n",
      " 20  job_unemployed       45211 non-null  int64\n",
      " 21  job_unknown          45211 non-null  int64\n",
      " 22  marital_married      45211 non-null  int64\n",
      " 23  marital_single       45211 non-null  int64\n",
      " 24  education_secondary  45211 non-null  int64\n",
      " 25  education_tertiary   45211 non-null  int64\n",
      " 26  education_unknown    45211 non-null  int64\n",
      " 27  contact_telephone    45211 non-null  int64\n",
      " 28  contact_unknown      45211 non-null  int64\n",
      " 29  month_aug            45211 non-null  int64\n",
      " 30  month_dec            45211 non-null  int64\n",
      " 31  month_feb            45211 non-null  int64\n",
      " 32  month_jan            45211 non-null  int64\n",
      " 33  month_jul            45211 non-null  int64\n",
      " 34  month_jun            45211 non-null  int64\n",
      " 35  month_mar            45211 non-null  int64\n",
      " 36  month_may            45211 non-null  int64\n",
      " 37  month_nov            45211 non-null  int64\n",
      " 38  month_oct            45211 non-null  int64\n",
      " 39  month_sep            45211 non-null  int64\n",
      " 40  poutcome_other       45211 non-null  int64\n",
      " 41  poutcome_success     45211 non-null  int64\n",
      " 42  poutcome_unknown     45211 non-null  int64\n",
      "dtypes: int64(43)\n",
      "memory usage: 14.8 MB\n"
     ]
    }
   ],
   "source": [
    "data.info()"
   ]
  },
  {
   "cell_type": "markdown",
   "id": "61ad23e5",
   "metadata": {
    "papermill": {
     "duration": 0.007592,
     "end_time": "2024-10-07T01:14:49.005529",
     "exception": false,
     "start_time": "2024-10-07T01:14:48.997937",
     "status": "completed"
    },
    "tags": []
   },
   "source": [
    "# Select Features And Target"
   ]
  },
  {
   "cell_type": "code",
   "execution_count": 36,
   "id": "15a240c5",
   "metadata": {
    "execution": {
     "iopub.execute_input": "2024-10-07T01:14:49.022977Z",
     "iopub.status.busy": "2024-10-07T01:14:49.022516Z",
     "iopub.status.idle": "2024-10-07T01:14:49.038867Z",
     "shell.execute_reply": "2024-10-07T01:14:49.037677Z"
    },
    "papermill": {
     "duration": 0.028448,
     "end_time": "2024-10-07T01:14:49.041706",
     "exception": false,
     "start_time": "2024-10-07T01:14:49.013258",
     "status": "completed"
    },
    "tags": []
   },
   "outputs": [],
   "source": [
    "X = data.drop(columns=['y'])\n",
    "y = data['y']"
   ]
  },
  {
   "cell_type": "markdown",
   "id": "a84b9173",
   "metadata": {
    "papermill": {
     "duration": 0.007317,
     "end_time": "2024-10-07T01:14:49.056902",
     "exception": false,
     "start_time": "2024-10-07T01:14:49.049585",
     "status": "completed"
    },
    "tags": []
   },
   "source": [
    "> **check whether the data is balanced or not**"
   ]
  },
  {
   "cell_type": "code",
   "execution_count": 37,
   "id": "31128956",
   "metadata": {
    "execution": {
     "iopub.execute_input": "2024-10-07T01:14:49.074345Z",
     "iopub.status.busy": "2024-10-07T01:14:49.073900Z",
     "iopub.status.idle": "2024-10-07T01:14:49.084280Z",
     "shell.execute_reply": "2024-10-07T01:14:49.082597Z"
    },
    "papermill": {
     "duration": 0.021878,
     "end_time": "2024-10-07T01:14:49.086634",
     "exception": false,
     "start_time": "2024-10-07T01:14:49.064756",
     "status": "completed"
    },
    "tags": []
   },
   "outputs": [
    {
     "name": "stdout",
     "output_type": "stream",
     "text": [
      "y\n",
      "0    39922\n",
      "1     5289\n",
      "Name: count, dtype: int64\n"
     ]
    }
   ],
   "source": [
    "label_counts = data['y'].value_counts()\n",
    "print(label_counts)"
   ]
  },
  {
   "cell_type": "markdown",
   "id": "d5940ac8",
   "metadata": {
    "papermill": {
     "duration": 0.007495,
     "end_time": "2024-10-07T01:14:49.101918",
     "exception": false,
     "start_time": "2024-10-07T01:14:49.094423",
     "status": "completed"
    },
    "tags": []
   },
   "source": [
    "# SMOTE DATA"
   ]
  },
  {
   "cell_type": "code",
   "execution_count": 38,
   "id": "e9174b04",
   "metadata": {
    "execution": {
     "iopub.execute_input": "2024-10-07T01:14:49.119615Z",
     "iopub.status.busy": "2024-10-07T01:14:49.119149Z",
     "iopub.status.idle": "2024-10-07T01:14:49.921243Z",
     "shell.execute_reply": "2024-10-07T01:14:49.920130Z"
    },
    "papermill": {
     "duration": 0.81381,
     "end_time": "2024-10-07T01:14:49.923766",
     "exception": false,
     "start_time": "2024-10-07T01:14:49.109956",
     "status": "completed"
    },
    "tags": []
   },
   "outputs": [],
   "source": [
    "smote = SMOTE(random_state=42)\n",
    "X_resampled, y_resampled = smote.fit_resample(X, y)"
   ]
  },
  {
   "cell_type": "markdown",
   "id": "d50fcd23",
   "metadata": {
    "papermill": {
     "duration": 0.007679,
     "end_time": "2024-10-07T01:14:49.939314",
     "exception": false,
     "start_time": "2024-10-07T01:14:49.931635",
     "status": "completed"
    },
    "tags": []
   },
   "source": [
    "> **StandardScaler for numeric features**"
   ]
  },
  {
   "cell_type": "code",
   "execution_count": 39,
   "id": "55a61762",
   "metadata": {
    "execution": {
     "iopub.execute_input": "2024-10-07T01:14:49.957126Z",
     "iopub.status.busy": "2024-10-07T01:14:49.956553Z",
     "iopub.status.idle": "2024-10-07T01:14:49.986323Z",
     "shell.execute_reply": "2024-10-07T01:14:49.985250Z"
    },
    "papermill": {
     "duration": 0.041678,
     "end_time": "2024-10-07T01:14:49.988830",
     "exception": false,
     "start_time": "2024-10-07T01:14:49.947152",
     "status": "completed"
    },
    "tags": []
   },
   "outputs": [],
   "source": [
    "scaler = StandardScaler()\n",
    "columns_to_standardize = ['age', 'balance', 'day', 'duration', 'campaign', 'pdays', 'previous']\n",
    "X_resampled[columns_to_standardize] = scaler.fit_transform(X_resampled[columns_to_standardize])"
   ]
  },
  {
   "cell_type": "markdown",
   "id": "1896ffdd",
   "metadata": {
    "papermill": {
     "duration": 0.007409,
     "end_time": "2024-10-07T01:14:50.004146",
     "exception": false,
     "start_time": "2024-10-07T01:14:49.996737",
     "status": "completed"
    },
    "tags": []
   },
   "source": [
    "# Split Data"
   ]
  },
  {
   "cell_type": "code",
   "execution_count": 40,
   "id": "a1a7017a",
   "metadata": {
    "execution": {
     "iopub.execute_input": "2024-10-07T01:14:50.021421Z",
     "iopub.status.busy": "2024-10-07T01:14:50.020984Z",
     "iopub.status.idle": "2024-10-07T01:14:50.132445Z",
     "shell.execute_reply": "2024-10-07T01:14:50.131350Z"
    },
    "papermill": {
     "duration": 0.12337,
     "end_time": "2024-10-07T01:14:50.135119",
     "exception": false,
     "start_time": "2024-10-07T01:14:50.011749",
     "status": "completed"
    },
    "tags": []
   },
   "outputs": [],
   "source": [
    "X_train, X_test, y_train, y_test = train_test_split(X_resampled, y_resampled, test_size=0.2, random_state=42)\n",
    "X_train_final, X_val, y_train_final, y_val = train_test_split(X_train, y_train, test_size=0.2, random_state=42)"
   ]
  },
  {
   "cell_type": "markdown",
   "id": "9808bb2e",
   "metadata": {
    "papermill": {
     "duration": 0.007549,
     "end_time": "2024-10-07T01:14:50.150951",
     "exception": false,
     "start_time": "2024-10-07T01:14:50.143402",
     "status": "completed"
    },
    "tags": []
   },
   "source": [
    "# Build Up Neural Network Model"
   ]
  },
  {
   "cell_type": "code",
   "execution_count": 41,
   "id": "347fca2a",
   "metadata": {
    "execution": {
     "iopub.execute_input": "2024-10-07T01:14:50.169034Z",
     "iopub.status.busy": "2024-10-07T01:14:50.168633Z",
     "iopub.status.idle": "2024-10-07T01:14:50.272666Z",
     "shell.execute_reply": "2024-10-07T01:14:50.271356Z"
    },
    "papermill": {
     "duration": 0.116368,
     "end_time": "2024-10-07T01:14:50.275391",
     "exception": false,
     "start_time": "2024-10-07T01:14:50.159023",
     "status": "completed"
    },
    "tags": []
   },
   "outputs": [],
   "source": [
    "model = Sequential([\n",
    "    Dense(64, input_dim=X_train_final.shape[1], activation='relu'),\n",
    "    Dense(32, activation='relu'),\n",
    "    Dense(1, activation='sigmoid')\n",
    "])\n",
    "\n",
    "# Compile model dengan optimizer SGD\n",
    "model.compile(loss='binary_crossentropy', optimizer=Adam(learning_rate=0.00001), metrics=['accuracy'])"
   ]
  },
  {
   "cell_type": "code",
   "execution_count": 42,
   "id": "dd9753b4",
   "metadata": {
    "execution": {
     "iopub.execute_input": "2024-10-07T01:14:50.293186Z",
     "iopub.status.busy": "2024-10-07T01:14:50.292665Z",
     "iopub.status.idle": "2024-10-07T01:19:04.476671Z",
     "shell.execute_reply": "2024-10-07T01:19:04.475437Z"
    },
    "papermill": {
     "duration": 254.195914,
     "end_time": "2024-10-07T01:19:04.479379",
     "exception": false,
     "start_time": "2024-10-07T01:14:50.283465",
     "status": "completed"
    },
    "tags": []
   },
   "outputs": [
    {
     "name": "stdout",
     "output_type": "stream",
     "text": [
      "Epoch 1/100\n",
      "1597/1597 - 6s - 4ms/step - accuracy: 0.6286 - loss: 0.6686 - val_accuracy: 0.7774 - val_loss: 0.6209\n",
      "Epoch 2/100\n",
      "1597/1597 - 5s - 3ms/step - accuracy: 0.8056 - loss: 0.5766 - val_accuracy: 0.8246 - val_loss: 0.5277\n",
      "Epoch 3/100\n",
      "1597/1597 - 5s - 3ms/step - accuracy: 0.8362 - loss: 0.4901 - val_accuracy: 0.8506 - val_loss: 0.4507\n",
      "Epoch 4/100\n",
      "1597/1597 - 5s - 3ms/step - accuracy: 0.8594 - loss: 0.4233 - val_accuracy: 0.8723 - val_loss: 0.3927\n",
      "Epoch 5/100\n",
      "1597/1597 - 5s - 3ms/step - accuracy: 0.8774 - loss: 0.3727 - val_accuracy: 0.8877 - val_loss: 0.3487\n",
      "Epoch 6/100\n",
      "1597/1597 - 4s - 3ms/step - accuracy: 0.8896 - loss: 0.3343 - val_accuracy: 0.8973 - val_loss: 0.3157\n",
      "Epoch 7/100\n",
      "1597/1597 - 5s - 3ms/step - accuracy: 0.8979 - loss: 0.3055 - val_accuracy: 0.9048 - val_loss: 0.2910\n",
      "Epoch 8/100\n",
      "1597/1597 - 5s - 3ms/step - accuracy: 0.9034 - loss: 0.2839 - val_accuracy: 0.9097 - val_loss: 0.2724\n",
      "Epoch 9/100\n",
      "1597/1597 - 5s - 3ms/step - accuracy: 0.9075 - loss: 0.2673 - val_accuracy: 0.9124 - val_loss: 0.2578\n",
      "Epoch 10/100\n",
      "1597/1597 - 5s - 3ms/step - accuracy: 0.9109 - loss: 0.2542 - val_accuracy: 0.9158 - val_loss: 0.2462\n",
      "Epoch 11/100\n",
      "1597/1597 - 5s - 3ms/step - accuracy: 0.9138 - loss: 0.2437 - val_accuracy: 0.9181 - val_loss: 0.2368\n",
      "Epoch 12/100\n",
      "1597/1597 - 5s - 3ms/step - accuracy: 0.9162 - loss: 0.2350 - val_accuracy: 0.9195 - val_loss: 0.2288\n",
      "Epoch 13/100\n",
      "1597/1597 - 5s - 3ms/step - accuracy: 0.9181 - loss: 0.2279 - val_accuracy: 0.9218 - val_loss: 0.2223\n",
      "Epoch 14/100\n",
      "1597/1597 - 5s - 3ms/step - accuracy: 0.9195 - loss: 0.2218 - val_accuracy: 0.9234 - val_loss: 0.2168\n",
      "Epoch 15/100\n",
      "1597/1597 - 5s - 3ms/step - accuracy: 0.9214 - loss: 0.2166 - val_accuracy: 0.9241 - val_loss: 0.2120\n",
      "Epoch 16/100\n",
      "1597/1597 - 5s - 3ms/step - accuracy: 0.9222 - loss: 0.2122 - val_accuracy: 0.9251 - val_loss: 0.2079\n",
      "Epoch 17/100\n",
      "1597/1597 - 5s - 3ms/step - accuracy: 0.9232 - loss: 0.2084 - val_accuracy: 0.9255 - val_loss: 0.2044\n",
      "Epoch 18/100\n",
      "1597/1597 - 5s - 3ms/step - accuracy: 0.9242 - loss: 0.2050 - val_accuracy: 0.9256 - val_loss: 0.2013\n",
      "Epoch 19/100\n",
      "1597/1597 - 5s - 3ms/step - accuracy: 0.9247 - loss: 0.2021 - val_accuracy: 0.9264 - val_loss: 0.1986\n",
      "Epoch 20/100\n",
      "1597/1597 - 5s - 3ms/step - accuracy: 0.9252 - loss: 0.1995 - val_accuracy: 0.9274 - val_loss: 0.1963\n",
      "Epoch 21/100\n",
      "1597/1597 - 5s - 3ms/step - accuracy: 0.9258 - loss: 0.1972 - val_accuracy: 0.9276 - val_loss: 0.1941\n",
      "Epoch 22/100\n",
      "1597/1597 - 5s - 3ms/step - accuracy: 0.9263 - loss: 0.1951 - val_accuracy: 0.9285 - val_loss: 0.1922\n",
      "Epoch 23/100\n",
      "1597/1597 - 5s - 3ms/step - accuracy: 0.9267 - loss: 0.1932 - val_accuracy: 0.9287 - val_loss: 0.1907\n",
      "Epoch 24/100\n",
      "1597/1597 - 5s - 3ms/step - accuracy: 0.9276 - loss: 0.1915 - val_accuracy: 0.9288 - val_loss: 0.1889\n",
      "Epoch 25/100\n",
      "1597/1597 - 5s - 3ms/step - accuracy: 0.9281 - loss: 0.1899 - val_accuracy: 0.9292 - val_loss: 0.1875\n",
      "Epoch 26/100\n",
      "1597/1597 - 5s - 3ms/step - accuracy: 0.9282 - loss: 0.1884 - val_accuracy: 0.9302 - val_loss: 0.1862\n",
      "Epoch 27/100\n",
      "1597/1597 - 5s - 3ms/step - accuracy: 0.9286 - loss: 0.1871 - val_accuracy: 0.9303 - val_loss: 0.1850\n",
      "Epoch 28/100\n",
      "1597/1597 - 5s - 3ms/step - accuracy: 0.9289 - loss: 0.1858 - val_accuracy: 0.9307 - val_loss: 0.1838\n",
      "Epoch 29/100\n",
      "1597/1597 - 5s - 3ms/step - accuracy: 0.9290 - loss: 0.1846 - val_accuracy: 0.9309 - val_loss: 0.1826\n",
      "Epoch 30/100\n",
      "1597/1597 - 5s - 3ms/step - accuracy: 0.9296 - loss: 0.1834 - val_accuracy: 0.9314 - val_loss: 0.1816\n",
      "Epoch 31/100\n",
      "1597/1597 - 5s - 3ms/step - accuracy: 0.9298 - loss: 0.1823 - val_accuracy: 0.9315 - val_loss: 0.1806\n",
      "Epoch 32/100\n",
      "1597/1597 - 5s - 3ms/step - accuracy: 0.9302 - loss: 0.1813 - val_accuracy: 0.9314 - val_loss: 0.1797\n",
      "Epoch 33/100\n",
      "1597/1597 - 5s - 3ms/step - accuracy: 0.9305 - loss: 0.1803 - val_accuracy: 0.9315 - val_loss: 0.1790\n",
      "Epoch 34/100\n",
      "1597/1597 - 5s - 3ms/step - accuracy: 0.9308 - loss: 0.1794 - val_accuracy: 0.9314 - val_loss: 0.1781\n",
      "Epoch 35/100\n",
      "1597/1597 - 5s - 3ms/step - accuracy: 0.9308 - loss: 0.1785 - val_accuracy: 0.9319 - val_loss: 0.1774\n",
      "Epoch 36/100\n",
      "1597/1597 - 5s - 3ms/step - accuracy: 0.9309 - loss: 0.1776 - val_accuracy: 0.9320 - val_loss: 0.1766\n",
      "Epoch 37/100\n",
      "1597/1597 - 5s - 3ms/step - accuracy: 0.9314 - loss: 0.1768 - val_accuracy: 0.9317 - val_loss: 0.1759\n",
      "Epoch 38/100\n",
      "1597/1597 - 5s - 3ms/step - accuracy: 0.9314 - loss: 0.1760 - val_accuracy: 0.9322 - val_loss: 0.1753\n",
      "Epoch 39/100\n",
      "1597/1597 - 5s - 3ms/step - accuracy: 0.9317 - loss: 0.1753 - val_accuracy: 0.9323 - val_loss: 0.1746\n",
      "Epoch 40/100\n",
      "1597/1597 - 5s - 3ms/step - accuracy: 0.9314 - loss: 0.1746 - val_accuracy: 0.9320 - val_loss: 0.1740\n",
      "Epoch 41/100\n",
      "1597/1597 - 5s - 3ms/step - accuracy: 0.9316 - loss: 0.1739 - val_accuracy: 0.9324 - val_loss: 0.1735\n",
      "Epoch 42/100\n",
      "1597/1597 - 5s - 3ms/step - accuracy: 0.9319 - loss: 0.1732 - val_accuracy: 0.9326 - val_loss: 0.1729\n",
      "Epoch 43/100\n",
      "1597/1597 - 4s - 3ms/step - accuracy: 0.9319 - loss: 0.1726 - val_accuracy: 0.9331 - val_loss: 0.1725\n",
      "Epoch 44/100\n",
      "1597/1597 - 5s - 3ms/step - accuracy: 0.9320 - loss: 0.1720 - val_accuracy: 0.9330 - val_loss: 0.1720\n",
      "Epoch 45/100\n",
      "1597/1597 - 4s - 3ms/step - accuracy: 0.9320 - loss: 0.1714 - val_accuracy: 0.9325 - val_loss: 0.1714\n",
      "Epoch 46/100\n",
      "1597/1597 - 4s - 3ms/step - accuracy: 0.9319 - loss: 0.1708 - val_accuracy: 0.9331 - val_loss: 0.1712\n",
      "Epoch 47/100\n",
      "1597/1597 - 4s - 3ms/step - accuracy: 0.9323 - loss: 0.1703 - val_accuracy: 0.9326 - val_loss: 0.1706\n",
      "Epoch 48/100\n",
      "1597/1597 - 4s - 3ms/step - accuracy: 0.9321 - loss: 0.1698 - val_accuracy: 0.9325 - val_loss: 0.1702\n",
      "Epoch 49/100\n",
      "1597/1597 - 3s - 2ms/step - accuracy: 0.9322 - loss: 0.1693 - val_accuracy: 0.9330 - val_loss: 0.1699\n",
      "Epoch 50/100\n",
      "1597/1597 - 4s - 3ms/step - accuracy: 0.9324 - loss: 0.1688 - val_accuracy: 0.9332 - val_loss: 0.1695\n",
      "Epoch 51/100\n",
      "1597/1597 - 5s - 3ms/step - accuracy: 0.9324 - loss: 0.1684 - val_accuracy: 0.9334 - val_loss: 0.1691\n",
      "Epoch 52/100\n",
      "1597/1597 - 5s - 3ms/step - accuracy: 0.9325 - loss: 0.1679 - val_accuracy: 0.9337 - val_loss: 0.1688\n",
      "Epoch 53/100\n",
      "1597/1597 - 5s - 3ms/step - accuracy: 0.9323 - loss: 0.1675 - val_accuracy: 0.9338 - val_loss: 0.1685\n",
      "Epoch 54/100\n",
      "1597/1597 - 5s - 3ms/step - accuracy: 0.9324 - loss: 0.1671 - val_accuracy: 0.9338 - val_loss: 0.1681\n",
      "Epoch 55/100\n",
      "1597/1597 - 5s - 3ms/step - accuracy: 0.9324 - loss: 0.1667 - val_accuracy: 0.9339 - val_loss: 0.1680\n",
      "Epoch 56/100\n",
      "1597/1597 - 5s - 3ms/step - accuracy: 0.9327 - loss: 0.1663 - val_accuracy: 0.9339 - val_loss: 0.1676\n",
      "Epoch 57/100\n",
      "1597/1597 - 5s - 3ms/step - accuracy: 0.9327 - loss: 0.1659 - val_accuracy: 0.9340 - val_loss: 0.1673\n",
      "Epoch 58/100\n",
      "1597/1597 - 4s - 2ms/step - accuracy: 0.9326 - loss: 0.1656 - val_accuracy: 0.9338 - val_loss: 0.1671\n",
      "Epoch 59/100\n",
      "1597/1597 - 4s - 3ms/step - accuracy: 0.9329 - loss: 0.1652 - val_accuracy: 0.9338 - val_loss: 0.1668\n",
      "Epoch 60/100\n",
      "1597/1597 - 5s - 3ms/step - accuracy: 0.9327 - loss: 0.1648 - val_accuracy: 0.9342 - val_loss: 0.1665\n",
      "Epoch 61/100\n",
      "1597/1597 - 5s - 3ms/step - accuracy: 0.9327 - loss: 0.1645 - val_accuracy: 0.9342 - val_loss: 0.1663\n",
      "Epoch 62/100\n",
      "1597/1597 - 5s - 3ms/step - accuracy: 0.9329 - loss: 0.1642 - val_accuracy: 0.9344 - val_loss: 0.1661\n",
      "Epoch 63/100\n",
      "1597/1597 - 5s - 3ms/step - accuracy: 0.9330 - loss: 0.1639 - val_accuracy: 0.9342 - val_loss: 0.1658\n",
      "Epoch 64/100\n",
      "1597/1597 - 5s - 3ms/step - accuracy: 0.9331 - loss: 0.1635 - val_accuracy: 0.9348 - val_loss: 0.1656\n",
      "Epoch 65/100\n",
      "1597/1597 - 5s - 3ms/step - accuracy: 0.9332 - loss: 0.1632 - val_accuracy: 0.9343 - val_loss: 0.1654\n",
      "Epoch 66/100\n",
      "1597/1597 - 5s - 3ms/step - accuracy: 0.9331 - loss: 0.1630 - val_accuracy: 0.9341 - val_loss: 0.1653\n",
      "Epoch 67/100\n",
      "1597/1597 - 5s - 3ms/step - accuracy: 0.9334 - loss: 0.1627 - val_accuracy: 0.9344 - val_loss: 0.1651\n",
      "Epoch 68/100\n",
      "1597/1597 - 5s - 3ms/step - accuracy: 0.9335 - loss: 0.1624 - val_accuracy: 0.9344 - val_loss: 0.1650\n",
      "Epoch 69/100\n",
      "1597/1597 - 5s - 3ms/step - accuracy: 0.9335 - loss: 0.1621 - val_accuracy: 0.9343 - val_loss: 0.1647\n",
      "Epoch 70/100\n",
      "1597/1597 - 5s - 3ms/step - accuracy: 0.9334 - loss: 0.1618 - val_accuracy: 0.9342 - val_loss: 0.1645\n",
      "Epoch 71/100\n",
      "1597/1597 - 5s - 3ms/step - accuracy: 0.9335 - loss: 0.1616 - val_accuracy: 0.9345 - val_loss: 0.1644\n",
      "Epoch 72/100\n",
      "1597/1597 - 5s - 3ms/step - accuracy: 0.9336 - loss: 0.1613 - val_accuracy: 0.9339 - val_loss: 0.1641\n"
     ]
    },
    {
     "name": "stdout",
     "output_type": "stream",
     "text": [
      "Epoch 73/100\n",
      "1597/1597 - 5s - 3ms/step - accuracy: 0.9336 - loss: 0.1611 - val_accuracy: 0.9341 - val_loss: 0.1640\n",
      "Epoch 74/100\n",
      "1597/1597 - 5s - 3ms/step - accuracy: 0.9338 - loss: 0.1608 - val_accuracy: 0.9343 - val_loss: 0.1638\n",
      "Epoch 75/100\n",
      "1597/1597 - 5s - 3ms/step - accuracy: 0.9336 - loss: 0.1606 - val_accuracy: 0.9344 - val_loss: 0.1637\n",
      "Epoch 76/100\n",
      "1597/1597 - 5s - 3ms/step - accuracy: 0.9339 - loss: 0.1603 - val_accuracy: 0.9346 - val_loss: 0.1635\n",
      "Epoch 77/100\n",
      "1597/1597 - 5s - 3ms/step - accuracy: 0.9337 - loss: 0.1601 - val_accuracy: 0.9346 - val_loss: 0.1633\n",
      "Epoch 78/100\n",
      "1597/1597 - 5s - 3ms/step - accuracy: 0.9339 - loss: 0.1598 - val_accuracy: 0.9341 - val_loss: 0.1631\n",
      "Epoch 79/100\n",
      "1597/1597 - 5s - 3ms/step - accuracy: 0.9341 - loss: 0.1596 - val_accuracy: 0.9342 - val_loss: 0.1631\n",
      "Epoch 80/100\n",
      "1597/1597 - 5s - 3ms/step - accuracy: 0.9339 - loss: 0.1594 - val_accuracy: 0.9340 - val_loss: 0.1628\n",
      "Epoch 81/100\n",
      "1597/1597 - 5s - 3ms/step - accuracy: 0.9339 - loss: 0.1592 - val_accuracy: 0.9344 - val_loss: 0.1627\n",
      "Epoch 82/100\n",
      "1597/1597 - 5s - 3ms/step - accuracy: 0.9341 - loss: 0.1589 - val_accuracy: 0.9345 - val_loss: 0.1625\n",
      "Epoch 83/100\n",
      "1597/1597 - 5s - 3ms/step - accuracy: 0.9339 - loss: 0.1587 - val_accuracy: 0.9344 - val_loss: 0.1625\n",
      "Epoch 84/100\n",
      "1597/1597 - 5s - 3ms/step - accuracy: 0.9343 - loss: 0.1585 - val_accuracy: 0.9343 - val_loss: 0.1623\n",
      "Epoch 85/100\n",
      "1597/1597 - 5s - 3ms/step - accuracy: 0.9343 - loss: 0.1583 - val_accuracy: 0.9340 - val_loss: 0.1621\n",
      "Epoch 86/100\n",
      "1597/1597 - 5s - 3ms/step - accuracy: 0.9342 - loss: 0.1581 - val_accuracy: 0.9339 - val_loss: 0.1620\n",
      "Epoch 87/100\n",
      "1597/1597 - 5s - 3ms/step - accuracy: 0.9343 - loss: 0.1579 - val_accuracy: 0.9346 - val_loss: 0.1620\n",
      "Epoch 88/100\n",
      "1597/1597 - 5s - 3ms/step - accuracy: 0.9341 - loss: 0.1577 - val_accuracy: 0.9342 - val_loss: 0.1617\n",
      "Epoch 89/100\n",
      "1597/1597 - 5s - 3ms/step - accuracy: 0.9343 - loss: 0.1575 - val_accuracy: 0.9341 - val_loss: 0.1616\n",
      "Epoch 90/100\n",
      "1597/1597 - 5s - 3ms/step - accuracy: 0.9345 - loss: 0.1573 - val_accuracy: 0.9340 - val_loss: 0.1614\n",
      "Epoch 91/100\n",
      "1597/1597 - 5s - 3ms/step - accuracy: 0.9343 - loss: 0.1571 - val_accuracy: 0.9344 - val_loss: 0.1614\n",
      "Epoch 92/100\n",
      "1597/1597 - 5s - 3ms/step - accuracy: 0.9344 - loss: 0.1569 - val_accuracy: 0.9342 - val_loss: 0.1612\n",
      "Epoch 93/100\n",
      "1597/1597 - 5s - 3ms/step - accuracy: 0.9344 - loss: 0.1567 - val_accuracy: 0.9341 - val_loss: 0.1610\n",
      "Epoch 94/100\n",
      "1597/1597 - 4s - 2ms/step - accuracy: 0.9345 - loss: 0.1565 - val_accuracy: 0.9342 - val_loss: 0.1609\n",
      "Epoch 95/100\n",
      "1597/1597 - 4s - 3ms/step - accuracy: 0.9347 - loss: 0.1563 - val_accuracy: 0.9342 - val_loss: 0.1608\n",
      "Epoch 96/100\n",
      "1597/1597 - 3s - 2ms/step - accuracy: 0.9345 - loss: 0.1562 - val_accuracy: 0.9344 - val_loss: 0.1607\n",
      "Epoch 97/100\n",
      "1597/1597 - 5s - 3ms/step - accuracy: 0.9346 - loss: 0.1560 - val_accuracy: 0.9344 - val_loss: 0.1606\n",
      "Epoch 98/100\n",
      "1597/1597 - 5s - 3ms/step - accuracy: 0.9348 - loss: 0.1558 - val_accuracy: 0.9341 - val_loss: 0.1605\n",
      "Epoch 99/100\n",
      "1597/1597 - 5s - 3ms/step - accuracy: 0.9348 - loss: 0.1556 - val_accuracy: 0.9345 - val_loss: 0.1604\n",
      "Epoch 100/100\n",
      "1597/1597 - 4s - 3ms/step - accuracy: 0.9349 - loss: 0.1554 - val_accuracy: 0.9342 - val_loss: 0.1603\n"
     ]
    }
   ],
   "source": [
    "history = model.fit(X_train_final.values, y_train_final.values, \n",
    "                    epochs=100, \n",
    "                    validation_data=(X_val.values, y_val.values), \n",
    "                    batch_size=32, \n",
    "                    verbose=2)"
   ]
  },
  {
   "cell_type": "markdown",
   "id": "4209f884",
   "metadata": {
    "papermill": {
     "duration": 0.019668,
     "end_time": "2024-10-07T01:19:04.519873",
     "exception": false,
     "start_time": "2024-10-07T01:19:04.500205",
     "status": "completed"
    },
    "tags": []
   },
   "source": [
    "# Learning Curve To Check Overfit or Underfit"
   ]
  },
  {
   "cell_type": "code",
   "execution_count": 43,
   "id": "1dc4d65a",
   "metadata": {
    "execution": {
     "iopub.execute_input": "2024-10-07T01:19:04.562550Z",
     "iopub.status.busy": "2024-10-07T01:19:04.562083Z",
     "iopub.status.idle": "2024-10-07T01:19:05.290044Z",
     "shell.execute_reply": "2024-10-07T01:19:05.288776Z"
    },
    "papermill": {
     "duration": 0.751961,
     "end_time": "2024-10-07T01:19:05.292537",
     "exception": false,
     "start_time": "2024-10-07T01:19:04.540576",
     "status": "completed"
    },
    "tags": []
   },
   "outputs": [
    {
     "data": {
      "image/png": "[encoded data removed]",
      "text/plain": [
       "<Figure size 864x864 with 2 Axes>"
      ]
     },
     "metadata": {
      "needs_background": "light"
     },
     "output_type": "display_data"
    }
   ],
   "source": [
    "plt.figure(figsize=(12, 12))\n",
    "\n",
    "plt.subplot(2, 1, 1)\n",
    "plt.plot(history.history['accuracy'], label='Training Accuracy')\n",
    "plt.plot(history.history['val_accuracy'], label='Validation Accuracy')\n",
    "plt.title('Learning Curve: Accuracy')\n",
    "plt.xlabel('Epoch')\n",
    "plt.ylabel('Accuracy')\n",
    "plt.legend()\n",
    "\n",
    "plt.subplot(2, 1, 2)\n",
    "plt.plot(history.history['loss'], label='Training Loss')\n",
    "plt.plot(history.history['val_loss'], label='Validation Loss')\n",
    "plt.title('Learning Curve: Loss')\n",
    "plt.xlabel('Epoch')\n",
    "plt.ylabel('Loss')\n",
    "plt.legend()\n",
    "\n",
    "plt.tight_layout()\n",
    "plt.show()"
   ]
  },
  {
   "cell_type": "markdown",
   "id": "5087148c",
   "metadata": {
    "papermill": {
     "duration": 0.021885,
     "end_time": "2024-10-07T01:19:05.336538",
     "exception": false,
     "start_time": "2024-10-07T01:19:05.314653",
     "status": "completed"
    },
    "tags": []
   },
   "source": [
    "# Matrix Confusion & Classification Report"
   ]
  },
  {
   "cell_type": "code",
   "execution_count": 44,
   "id": "4ff80b2e",
   "metadata": {
    "execution": {
     "iopub.execute_input": "2024-10-07T01:19:05.381160Z",
     "iopub.status.busy": "2024-10-07T01:19:05.380716Z",
     "iopub.status.idle": "2024-10-07T01:19:06.534492Z",
     "shell.execute_reply": "2024-10-07T01:19:06.533315Z"
    },
    "papermill": {
     "duration": 1.178643,
     "end_time": "2024-10-07T01:19:06.536897",
     "exception": false,
     "start_time": "2024-10-07T01:19:05.358254",
     "status": "completed"
    },
    "tags": []
   },
   "outputs": [
    {
     "name": "stdout",
     "output_type": "stream",
     "text": [
      "\u001b[1m500/500\u001b[0m \u001b[32m━━━━━━━━━━━━━━━━━━━━\u001b[0m\u001b[37m\u001b[0m \u001b[1m1s\u001b[0m 2ms/step\n"
     ]
    },
    {
     "data": {
      "image/png": "[encoded data removed]",
      "text/plain": [
       "<Figure size 576x432 with 2 Axes>"
      ]
     },
     "metadata": {
      "needs_background": "light"
     },
     "output_type": "display_data"
    }
   ],
   "source": [
    "y_pred = (model.predict(X_test.values) > 0.5).astype(\"int32\")  # Mengonversi probabilitas ke biner\n",
    "\n",
    "conf_matrix = confusion_matrix(y_test, y_pred)\n",
    "plt.figure(figsize=(8, 6))\n",
    "sns.heatmap(conf_matrix, annot=True, fmt='d', cmap='Blues', xticklabels=['No', 'Yes'], yticklabels=['No', 'Yes'])\n",
    "plt.title('Confusion Matrix')\n",
    "plt.xlabel('Predicted')\n",
    "plt.ylabel('True')\n",
    "plt.show()"
   ]
  },
  {
   "cell_type": "code",
   "execution_count": 45,
   "id": "fad9dc18",
   "metadata": {
    "execution": {
     "iopub.execute_input": "2024-10-07T01:19:06.585969Z",
     "iopub.status.busy": "2024-10-07T01:19:06.585537Z",
     "iopub.status.idle": "2024-10-07T01:19:06.627726Z",
     "shell.execute_reply": "2024-10-07T01:19:06.626165Z"
    },
    "papermill": {
     "duration": 0.069334,
     "end_time": "2024-10-07T01:19:06.630115",
     "exception": false,
     "start_time": "2024-10-07T01:19:06.560781",
     "status": "completed"
    },
    "tags": []
   },
   "outputs": [
    {
     "name": "stdout",
     "output_type": "stream",
     "text": [
      "Classification Report:\n",
      "               precision    recall  f1-score   support\n",
      "\n",
      "          No       0.92      0.93      0.93      7908\n",
      "         Yes       0.93      0.92      0.93      8061\n",
      "\n",
      "    accuracy                           0.93     15969\n",
      "   macro avg       0.93      0.93      0.93     15969\n",
      "weighted avg       0.93      0.93      0.93     15969\n",
      "\n"
     ]
    }
   ],
   "source": [
    "class_report = classification_report(y_test, y_pred, target_names=['No', 'Yes'])\n",
    "print(\"Classification Report:\\n\", class_report)"
   ]
  },
  {
   "cell_type": "code",
   "execution_count": 79,
   "id": "25bf0bf6",
   "metadata": {},
   "outputs": [],
   "source": [
    "import pickle"
   ]
  },
  {
   "cell_type": "code",
   "execution_count": 80,
   "id": "00b86cfd",
   "metadata": {},
   "outputs": [],
   "source": [
    "with open('bank.pkl', 'wb') as file:\n",
    "    pickle.dump(model, file)"
   ]
  },
  {
   "cell_type": "code",
   "execution_count": 81,
   "id": "d4feb017",
   "metadata": {},
   "outputs": [],
   "source": [
    "with open('bank.pkl', 'rb') as file:\n",
    "    loaded_model = pickle.load(file)"
   ]
  },
  {
   "cell_type": "code",
   "execution_count": 82,
   "id": "e5cc108c",
   "metadata": {},
   "outputs": [
    {
     "name": "stdout",
     "output_type": "stream",
     "text": [
      "\u001b[1m500/500\u001b[0m \u001b[32m━━━━━━━━━━━━━━━━━━━━\u001b[0m\u001b[37m\u001b[0m \u001b[1m1s\u001b[0m 1ms/step\n"
     ]
    }
   ],
   "source": [
    "predictions = loaded_model.predict(X_test)\n",
    "\n",
    "# If it's a classification model, you might want to round or argmax predictions\n",
    "# For example, for binary classification:\n",
    "predicted_classes = (predictions > 0.5).astype(\"int32\")"
   ]
  },
  {
   "cell_type": "code",
   "execution_count": 83,
   "id": "607efb7a",
   "metadata": {},
   "outputs": [
    {
     "name": "stdout",
     "output_type": "stream",
     "text": [
      "\u001b[1m500/500\u001b[0m \u001b[32m━━━━━━━━━━━━━━━━━━━━\u001b[0m\u001b[37m\u001b[0m \u001b[1m1s\u001b[0m 994us/step\n"
     ]
    },
    {
     "data": {
      "text/plain": [
       "array([[0.99897027],\n",
       "       [0.9899598 ],\n",
       "       [0.99546903],\n",
       "       ...,\n",
       "       [0.08636249],\n",
       "       [0.9991879 ],\n",
       "       [0.9968851 ]], dtype=float32)"
      ]
     },
     "execution_count": 83,
     "metadata": {},
     "output_type": "execute_result"
    }
   ],
   "source": [
    "loaded_model.predict(X_test)"
   ]
  },
  {
   "cell_type": "code",
   "execution_count": 84,
   "id": "43d0799c",
   "metadata": {},
   "outputs": [
    {
     "name": "stdout",
     "output_type": "stream",
     "text": [
      "<class 'pandas.core.frame.DataFrame'>\n",
      "Index: 15969 entries, 72809 to 47389\n",
      "Data columns (total 42 columns):\n",
      " #   Column               Non-Null Count  Dtype  \n",
      "---  ------               --------------  -----  \n",
      " 0   age                  15969 non-null  float64\n",
      " 1   default              15969 non-null  int64  \n",
      " 2   balance              15969 non-null  float64\n",
      " 3   housing              15969 non-null  int64  \n",
      " 4   loan                 15969 non-null  int64  \n",
      " 5   day                  15969 non-null  float64\n",
      " 6   duration             15969 non-null  float64\n",
      " 7   campaign             15969 non-null  float64\n",
      " 8   pdays                15969 non-null  float64\n",
      " 9   previous             15969 non-null  float64\n",
      " 10  job_blue-collar      15969 non-null  int64  \n",
      " 11  job_entrepreneur     15969 non-null  int64  \n",
      " 12  job_housemaid        15969 non-null  int64  \n",
      " 13  job_management       15969 non-null  int64  \n",
      " 14  job_retired          15969 non-null  int64  \n",
      " 15  job_self-employed    15969 non-null  int64  \n",
      " 16  job_services         15969 non-null  int64  \n",
      " 17  job_student          15969 non-null  int64  \n",
      " 18  job_technician       15969 non-null  int64  \n",
      " 19  job_unemployed       15969 non-null  int64  \n",
      " 20  job_unknown          15969 non-null  int64  \n",
      " 21  marital_married      15969 non-null  int64  \n",
      " 22  marital_single       15969 non-null  int64  \n",
      " 23  education_secondary  15969 non-null  int64  \n",
      " 24  education_tertiary   15969 non-null  int64  \n",
      " 25  education_unknown    15969 non-null  int64  \n",
      " 26  contact_telephone    15969 non-null  int64  \n",
      " 27  contact_unknown      15969 non-null  int64  \n",
      " 28  month_aug            15969 non-null  int64  \n",
      " 29  month_dec            15969 non-null  int64  \n",
      " 30  month_feb            15969 non-null  int64  \n",
      " 31  month_jan            15969 non-null  int64  \n",
      " 32  month_jul            15969 non-null  int64  \n",
      " 33  month_jun            15969 non-null  int64  \n",
      " 34  month_mar            15969 non-null  int64  \n",
      " 35  month_may            15969 non-null  int64  \n",
      " 36  month_nov            15969 non-null  int64  \n",
      " 37  month_oct            15969 non-null  int64  \n",
      " 38  month_sep            15969 non-null  int64  \n",
      " 39  poutcome_other       15969 non-null  int64  \n",
      " 40  poutcome_success     15969 non-null  int64  \n",
      " 41  poutcome_unknown     15969 non-null  int64  \n",
      "dtypes: float64(7), int64(35)\n",
      "memory usage: 5.2 MB\n"
     ]
    }
   ],
   "source": [
    "X_test.info()"
   ]
  },
  {
   "cell_type": "code",
   "execution_count": 85,
   "id": "0883dc96",
   "metadata": {},
   "outputs": [
    {
     "data": {
      "text/plain": [
       "72809    1\n",
       "71061    1\n",
       "57176    1\n",
       "40165    0\n",
       "71998    1\n",
       "Name: y, dtype: int64"
      ]
     },
     "execution_count": 85,
     "metadata": {},
     "output_type": "execute_result"
    }
   ],
   "source": [
    "y_test.head()"
   ]
  },
  {
   "cell_type": "code",
   "execution_count": 86,
   "id": "69b24948",
   "metadata": {},
   "outputs": [
    {
     "data": {
      "text/html": [
       "<div>\n",
       "<style scoped>\n",
       "    .dataframe tbody tr th:only-of-type {\n",
       "        vertical-align: middle;\n",
       "    }\n",
       "\n",
       "    .dataframe tbody tr th {\n",
       "        vertical-align: top;\n",
       "    }\n",
       "\n",
       "    .dataframe thead th {\n",
       "        text-align: right;\n",
       "    }\n",
       "</style>\n",
       "<table border=\"1\" class=\"dataframe\">\n",
       "  <thead>\n",
       "    <tr style=\"text-align: right;\">\n",
       "      <th></th>\n",
       "      <th>age</th>\n",
       "      <th>default</th>\n",
       "      <th>balance</th>\n",
       "      <th>housing</th>\n",
       "      <th>loan</th>\n",
       "      <th>day</th>\n",
       "      <th>duration</th>\n",
       "      <th>campaign</th>\n",
       "      <th>pdays</th>\n",
       "      <th>previous</th>\n",
       "      <th>...</th>\n",
       "      <th>month_jul</th>\n",
       "      <th>month_jun</th>\n",
       "      <th>month_mar</th>\n",
       "      <th>month_may</th>\n",
       "      <th>month_nov</th>\n",
       "      <th>month_oct</th>\n",
       "      <th>month_sep</th>\n",
       "      <th>poutcome_other</th>\n",
       "      <th>poutcome_success</th>\n",
       "      <th>poutcome_unknown</th>\n",
       "    </tr>\n",
       "  </thead>\n",
       "  <tbody>\n",
       "    <tr>\n",
       "      <th>72809</th>\n",
       "      <td>-0.90541</td>\n",
       "      <td>0</td>\n",
       "      <td>-0.081431</td>\n",
       "      <td>0</td>\n",
       "      <td>0</td>\n",
       "      <td>-0.166062</td>\n",
       "      <td>0.757251</td>\n",
       "      <td>-0.525191</td>\n",
       "      <td>-0.488358</td>\n",
       "      <td>-0.33571</td>\n",
       "      <td>...</td>\n",
       "      <td>0</td>\n",
       "      <td>0</td>\n",
       "      <td>0</td>\n",
       "      <td>0</td>\n",
       "      <td>0</td>\n",
       "      <td>0</td>\n",
       "      <td>0</td>\n",
       "      <td>0</td>\n",
       "      <td>0</td>\n",
       "      <td>1</td>\n",
       "    </tr>\n",
       "  </tbody>\n",
       "</table>\n",
       "<p>1 rows × 42 columns</p>\n",
       "</div>"
      ],
      "text/plain": [
       "           age  default   balance  housing  loan       day  duration  \\\n",
       "72809 -0.90541        0 -0.081431        0     0 -0.166062  0.757251   \n",
       "\n",
       "       campaign     pdays  previous  ...  month_jul  month_jun  month_mar  \\\n",
       "72809 -0.525191 -0.488358  -0.33571  ...          0          0          0   \n",
       "\n",
       "       month_may  month_nov  month_oct  month_sep  poutcome_other  \\\n",
       "72809          0          0          0          0               0   \n",
       "\n",
       "       poutcome_success  poutcome_unknown  \n",
       "72809                 0                 1  \n",
       "\n",
       "[1 rows x 42 columns]"
      ]
     },
     "execution_count": 86,
     "metadata": {},
     "output_type": "execute_result"
    }
   ],
   "source": [
    "X_test.head(1)"
   ]
  },
  {
   "cell_type": "code",
   "execution_count": 91,
   "id": "0942f41c",
   "metadata": {},
   "outputs": [
    {
     "ename": "SyntaxError",
     "evalue": "invalid syntax (3355273751.py, line 1)",
     "output_type": "error",
     "traceback": [
      "\u001b[0;36m  File \u001b[0;32m\"/tmp/ipykernel_722/3355273751.py\"\u001b[0;36m, line \u001b[0;32m1\u001b[0m\n\u001b[0;31m    loaded_model.predict(0.19117647, 0.43333333, 0.33921623, 0.        , 0.50751343,        0.42585668,0,.        , 0.        , 0.        , 1.        ,        0.        , 0.        , 0.        , 0.        , 0.        ,        0.        , 1.        , 0.        , 0.        , 1.        ,        0.        , 0.        , 0.        , 0.        , 1.        ,        0.        , 0.        , 0.        , 0.        , 0.        ,        0.        , 0.        , 0.        , 0.        , 0.        ,       0.        , 0.        , 0.        ,        0.        , 0.    )\u001b[0m\n\u001b[0m                                                                                                         ^\u001b[0m\n\u001b[0;31mSyntaxError\u001b[0m\u001b[0;31m:\u001b[0m invalid syntax\n"
     ]
    }
   ],
   "source": [
    "loaded_model.predict(0.19117647, 0.43333333, 0.33921623, 0.        , 0.50751343,        0.42585668,0,.        , 0.        , 0.        , 1.        ,        0.        , 0.        , 0.        , 0.        , 0.        ,        0.        , 1.        , 0.        , 0.        , 1.        ,        0.        , 0.        , 0.        , 0.        , 1.        ,        0.        , 0.        , 0.        , 0.        , 0.        ,        0.        , 0.        , 0.        , 0.        , 0.        ,       0.        , 0.        , 0.        ,        0.        , 0.    )"
   ]
  },
  {
   "cell_type": "code",
   "execution_count": 93,
   "id": "bc1e06d0",
   "metadata": {},
   "outputs": [],
   "source": [
    "da=np.array(X_test)"
   ]
  },
  {
   "cell_type": "code",
   "execution_count": 94,
   "id": "2f8986f2",
   "metadata": {},
   "outputs": [
    {
     "data": {
      "text/plain": [
       "array([[-0.63097978,  0.        , -0.2774579 ,  0.        ,  0.        ,\n",
       "        -0.1660623 , -0.27694185,  0.25297346,  1.25408341,  0.10945032,\n",
       "         0.        ,  0.        ,  0.        ,  0.        ,  0.        ,\n",
       "         0.        ,  0.        ,  0.        ,  0.        ,  0.        ,\n",
       "         0.        ,  0.        ,  1.        ,  0.        ,  1.        ,\n",
       "         0.        ,  0.        ,  0.        ,  0.        ,  0.        ,\n",
       "         0.        ,  0.        ,  0.        ,  0.        ,  0.        ,\n",
       "         0.        ,  0.        ,  0.        ,  0.        ,  0.        ,\n",
       "         1.        ,  0.        ]])"
      ]
     },
     "execution_count": 94,
     "metadata": {},
     "output_type": "execute_result"
    }
   ],
   "source": [
    "da[1:2]"
   ]
  },
  {
   "cell_type": "code",
   "execution_count": null,
   "id": "d0c8119e",
   "metadata": {},
   "outputs": [],
   "source": []
  }
 ],
 "metadata": {
  "kaggle": {
   "accelerator": "none",
   "dataSources": [
    {
     "datasetId": 1641813,
     "sourceId": 2696191,
     "sourceType": "datasetVersion"
    }
   ],
   "dockerImageVersionId": 30786,
   "isGpuEnabled": false,
   "isInternetEnabled": false,
   "language": "python",
   "sourceType": "notebook"
  },
  "kernelspec": {
   "display_name": "Python 3 (ipykernel)",
   "language": "python",
   "name": "python3"
  },
  "language_info": {
   "codemirror_mode": {
    "name": "ipython",
    "version": 3
   },
   "file_extension": ".py",
   "mimetype": "text/x-python",
   "name": "python",
   "nbconvert_exporter": "python",
   "pygments_lexer": "ipython3",
   "version": "3.10.12"
  },
  "papermill": {
   "default_parameters": {},
   "duration": 294.646552,
   "end_time": "2024-10-07T01:19:09.338959",
   "environment_variables": {},
   "exception": null,
   "input_path": "__notebook__.ipynb",
   "output_path": "__notebook__.ipynb",
   "parameters": {},
   "start_time": "2024-10-07T01:14:14.692407",
   "version": "2.6.0"
  }
 },
 "nbformat": 4,
 "nbformat_minor": 5
}
