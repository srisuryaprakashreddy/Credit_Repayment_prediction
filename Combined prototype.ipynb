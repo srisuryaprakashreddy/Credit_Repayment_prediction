{
 "cells": [
  {
   "cell_type": "code",
   "execution_count": 32,
   "id": "90b833fc",
   "metadata": {},
   "outputs": [
    {
     "name": "stdout",
     "output_type": "stream",
     "text": [
      " Prediction credit: 0\n",
      " Prediction bank: 1\n",
      " Prediction loan: 1\n",
      "Final Prediction (based on voting): 1\n"
     ]
    }
   ],
   "source": [
    "import pickle\n",
    "import numpy as np\n",
    "import pandas as pd\n",
    "from sklearn.ensemble import VotingClassifier\n",
    "\n",
    "# Load all three models\n",
    "with open('CreditCard.pkl', 'rb') as file:\n",
    "    model_1 = pickle.load(file)\n",
    "\n",
    "with open('best_model_XGB.pkl', 'rb') as file:\n",
    "    model_2 = pickle.load(file)\n",
    "\n",
    "with open('loan.pkl', 'rb') as file:\n",
    "    model_3 = pickle.load(file)\n",
    "\n",
    "credit_card_feature_names = ['Time', 'V1', 'V2', 'V3', 'V4', 'V5', 'V6', 'V7', \n",
    "                             'V8', 'V9', 'V10', 'V11', 'V12', 'V13', 'V14', \n",
    "                             'V15', 'V16', 'V17', 'V18', 'V19', 'V20', \n",
    "                             'V21', 'V22', 'V23', 'V24', 'V25', 'V26', \n",
    "                             'V27', 'V28', 'Amount']\n",
    "\n",
    "# Create a DataFrame for the input using the provided values\n",
    "credit_card_input_df = pd.DataFrame(\n",
    "    [[0, -1.3598071336738, -0.0727811733098497, 2.53634673796914,\n",
    "      1.37815522427443, -0.338320769942518, 0.462387777762292,\n",
    "      0.239598554061257, 0.0986979012610507, 0.363786969611213,\n",
    "      0.0907941719789316, -0.551599533260813, -0.617800855762348,\n",
    "      -0.991389847235408, -0.311169353699879, 1.46817697209427,\n",
    "      -0.470400525259478, 0.207971241929242, 0.0257905801985591,\n",
    "      0.403992960255733, 0.251412098239705, -0.018306777944153,\n",
    "      0.277837575558899, -0.110473910188767, 0.0669280749146731,\n",
    "      0.128539358273528, -0.189114843888824, 0.133558376740387,\n",
    "      -0.0210530534538215, 149.62]],\n",
    "    columns=credit_card_feature_names\n",
    ")\n",
    "xgb_input = np.array([[0.45588235, 0.13333333, 0.12519462, 0.54994057, 0.72448635,\n",
    "                          0.45597086, 0., 0., 0., 1.,\n",
    "                          0., 0., 0., 0., 0.,\n",
    "                          0., 1., 0., 0., 1.,\n",
    "                          0., 0., 0., 0., 1.,\n",
    "                          0., 0., 0., 0., 0.,\n",
    "                          0., 0., 0., 0., 0.,\n",
    "                          0., 1., 0., 1., 0.,\n",
    "                          0., 0., 0., 0., 0.,\n",
    "                          0., 0.]])\n",
    "loan_input = np.array([[-0.57235147, -0.8660254 ,  0.3048003 , -0.61237244, -0.3863337 ,\n",
    "        -1.20157723,  0.07757063, -0.29003686,  0.3221407 ,  0.31622777,\n",
    "        -0.4316507 ]])\n",
    "# Ensure the inputs are preprocessed according to the models' requirements (scaling, encoding, etc.)\n",
    "\n",
    "# Make predictions from each model\n",
    "y_pred_1 = model_1.predict(credit_card_input_df)\n",
    "y_pred_2 = model_2.predict(xgb_input)\n",
    "y_pred_3 = model_3.predict(loan_input)\n",
    "\n",
    "# Combine predictions with a majority voting strategy\n",
    "# For a simple majority vote, we'll sum the predictions and take the mode (majority class)\n",
    "# Assuming binary classification (0 or 1)\n",
    "predictions = [y_pred_1[0],y_pred_2[0], y_pred_3[0]]\n",
    "final_prediction = max(set(predictions), key=predictions.count)\n",
    "\n",
    "print(f\" Prediction credit: {y_pred_1[0]}\")\n",
    "print(f\" Prediction bank: {y_pred_2[0]}\")\n",
    "print(f\" Prediction loan: {y_pred_3[0]}\")\n",
    "\n",
    "\n",
    "\n",
    "print(f\"Final Prediction (based on voting): {final_prediction}\")\n"
   ]
  },
  {
   "cell_type": "code",
   "execution_count": 31,
   "id": "f540efb6",
   "metadata": {},
   "outputs": [
    {
     "name": "stdout",
     "output_type": "stream",
     "text": [
      "[0]\n"
     ]
    }
   ],
   "source": [
    "y_pred_1 = model_1.predict(credit_card_input_df)\n",
    "print(y_pred_1)\n"
   ]
  },
  {
   "cell_type": "code",
   "execution_count": 25,
   "id": "a6742d2f",
   "metadata": {},
   "outputs": [
    {
     "name": "stdout",
     "output_type": "stream",
     "text": [
      "Prediction for the provided input: [0]\n"
     ]
    }
   ],
   "source": [
    "import pandas as pd\n",
    "import numpy as np\n",
    "\n",
    "# Assuming 'loaded' is your trained model\n",
    "# Define the feature names based on your training data\n",
    "credit_card_feature_names = ['Time', 'V1', 'V2', 'V3', 'V4', 'V5', 'V6', 'V7', \n",
    "                             'V8', 'V9', 'V10', 'V11', 'V12', 'V13', 'V14', \n",
    "                             'V15', 'V16', 'V17', 'V18', 'V19', 'V20', \n",
    "                             'V21', 'V22', 'V23', 'V24', 'V25', 'V26', \n",
    "                             'V27', 'V28', 'Amount']\n",
    "\n",
    "# Create a DataFrame for the input using the provided values\n",
    "credit_card_input_df = pd.DataFrame(\n",
    "    [[0, -1.3598071336738, -0.0727811733098497, 2.53634673796914,\n",
    "      1.37815522427443, -0.338320769942518, 0.462387777762292,\n",
    "      0.239598554061257, 0.0986979012610507, 0.363786969611213,\n",
    "      0.0907941719789316, -0.551599533260813, -0.617800855762348,\n",
    "      -0.991389847235408, -0.311169353699879, 1.46817697209427,\n",
    "      -0.470400525259478, 0.207971241929242, 0.0257905801985591,\n",
    "      0.403992960255733, 0.251412098239705, -0.018306777944153,\n",
    "      0.277837575558899, -0.110473910188767, 0.0669280749146731,\n",
    "      0.128539358273528, -0.189114843888824, 0.133558376740387,\n",
    "      -0.0210530534538215, 149.62]],\n",
    "    columns=credit_card_feature_names\n",
    ")\n",
    "\n",
    "# Make the prediction using the DataFrame\n",
    "prediction = model_1.predict(credit_card_input_df)\n",
    "\n",
    "# Output the prediction\n",
    "print(\"Prediction for the provided input:\", prediction)"
   ]
  },
  {
   "cell_type": "code",
   "execution_count": null,
   "id": "914552d1",
   "metadata": {},
   "outputs": [],
   "source": []
  },
  {
   "cell_type": "code",
   "execution_count": null,
   "id": "48bd8a41",
   "metadata": {},
   "outputs": [],
   "source": []
  }
 ],
 "metadata": {
  "kernelspec": {
   "display_name": "Python 3 (ipykernel)",
   "language": "python",
   "name": "python3"
  },
  "language_info": {
   "codemirror_mode": {
    "name": "ipython",
    "version": 3
   },
   "file_extension": ".py",
   "mimetype": "text/x-python",
   "name": "python",
   "nbconvert_exporter": "python",
   "pygments_lexer": "ipython3",
   "version": "3.10.12"
  }
 },
 "nbformat": 4,
 "nbformat_minor": 5
}
